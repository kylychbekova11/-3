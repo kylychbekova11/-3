{
  "nbformat": 4,
  "nbformat_minor": 0,
  "metadata": {
    "colab": {
      "provenance": [],
      "toc_visible": true,
      "authorship_tag": "ABX9TyPV72c+x/liPMfIMTyBKaO4",
      "include_colab_link": true
    },
    "kernelspec": {
      "name": "python3",
      "display_name": "Python 3"
    },
    "language_info": {
      "name": "python"
    }
  },
  "cells": [
    {
      "cell_type": "markdown",
      "metadata": {
        "id": "view-in-github",
        "colab_type": "text"
      },
      "source": [
        "<a href=\"https://colab.research.google.com/github/kylychbekova11/-3/blob/main/%D0%BA%D1%8B%D0%BB%D1%8B%D1%87%D0%B1%D0%B5%D0%BA%D0%BE%D0%B2%D0%B0_%D0%BC_%D0%BF%D0%B5%D1%80%D0%B2%D1%8B%D0%B9_%D1%83%D1%87%D0%B8%D1%82%D0%B5%D0%BB%D1%8C.ipynb\" target=\"_parent\"><img src=\"https://colab.research.google.com/assets/colab-badge.svg\" alt=\"Open In Colab\"/></a>"
      ]
    },
    {
      "cell_type": "code",
      "execution_count": null,
      "metadata": {
        "colab": {
          "base_uri": "https://localhost:8080/"
        },
        "id": "N6XAvAnC7zWd",
        "outputId": "327718dc-ec8f-48ce-bc65-bfd614d38474"
      },
      "outputs": [
        {
          "output_type": "stream",
          "name": "stdout",
          "text": [
            "\u001b[2K     \u001b[90m━━━━━━━━━━━━━━━━━━━━━━━━━━━━━━━━━━━━━━━━\u001b[0m \u001b[32m58.9/58.9 kB\u001b[0m \u001b[31m1.8 MB/s\u001b[0m eta \u001b[36m0:00:00\u001b[0m\n",
            "\u001b[2K   \u001b[90m━━━━━━━━━━━━━━━━━━━━━━━━━━━━━━━━━━━━━━━━\u001b[0m \u001b[32m111.7/111.7 kB\u001b[0m \u001b[31m3.6 MB/s\u001b[0m eta \u001b[36m0:00:00\u001b[0m\n",
            "\u001b[2K   \u001b[90m━━━━━━━━━━━━━━━━━━━━━━━━━━━━━━━━━━━━━━━━\u001b[0m \u001b[32m11.6/11.6 MB\u001b[0m \u001b[31m58.4 MB/s\u001b[0m eta \u001b[36m0:00:00\u001b[0m\n",
            "\u001b[2K   \u001b[90m━━━━━━━━━━━━━━━━━━━━━━━━━━━━━━━━━━━━━━━━\u001b[0m \u001b[32m17.1/17.1 MB\u001b[0m \u001b[31m52.6 MB/s\u001b[0m eta \u001b[36m0:00:00\u001b[0m\n",
            "\u001b[2K   \u001b[90m━━━━━━━━━━━━━━━━━━━━━━━━━━━━━━━━━━━━━━━━\u001b[0m \u001b[32m12.2/12.2 MB\u001b[0m \u001b[31m55.8 MB/s\u001b[0m eta \u001b[36m0:00:00\u001b[0m\n",
            "\u001b[2K   \u001b[90m━━━━━━━━━━━━━━━━━━━━━━━━━━━━━━━━━━━━━━━━\u001b[0m \u001b[32m62.6/62.6 kB\u001b[0m \u001b[31m3.1 MB/s\u001b[0m eta \u001b[36m0:00:00\u001b[0m\n",
            "\u001b[2K   \u001b[90m━━━━━━━━━━━━━━━━━━━━━━━━━━━━━━━━━━━━━━━━\u001b[0m \u001b[32m34.1/34.1 MB\u001b[0m \u001b[31m13.0 MB/s\u001b[0m eta \u001b[36m0:00:00\u001b[0m\n",
            "\u001b[2K   \u001b[90m━━━━━━━━━━━━━━━━━━━━━━━━━━━━━━━━━━━━━━━━\u001b[0m \u001b[32m98.3/98.3 kB\u001b[0m \u001b[31m4.7 MB/s\u001b[0m eta \u001b[36m0:00:00\u001b[0m\n",
            "\u001b[2K   \u001b[90m━━━━━━━━━━━━━━━━━━━━━━━━━━━━━━━━━━━━━━━━\u001b[0m \u001b[32m125.0/125.0 kB\u001b[0m \u001b[31m6.2 MB/s\u001b[0m eta \u001b[36m0:00:00\u001b[0m\n",
            "\u001b[2K   \u001b[90m━━━━━━━━━━━━━━━━━━━━━━━━━━━━━━━━━━━━━━━━\u001b[0m \u001b[32m95.0/95.0 kB\u001b[0m \u001b[31m5.3 MB/s\u001b[0m eta \u001b[36m0:00:00\u001b[0m\n",
            "\u001b[2K   \u001b[90m━━━━━━━━━━━━━━━━━━━━━━━━━━━━━━━━━━━━━━━━\u001b[0m \u001b[32m1.6/1.6 MB\u001b[0m \u001b[31m43.1 MB/s\u001b[0m eta \u001b[36m0:00:00\u001b[0m\n",
            "\u001b[?25h\u001b[31mERROR: pip's dependency resolver does not currently take into account all the packages that are installed. This behaviour is the source of the following dependency conflicts.\n",
            "google-colab 1.0.0 requires pandas==2.2.2, but you have pandas 2.0.3 which is incompatible.\n",
            "google-colab 1.0.0 requires requests==2.32.3, but you have requests 2.31.0 which is incompatible.\n",
            "tensorflow 2.18.0 requires numpy<2.1.0,>=1.26.0, but you have numpy 1.23.5 which is incompatible.\n",
            "chex 0.1.89 requires numpy>=1.24.1, but you have numpy 1.23.5 which is incompatible.\n",
            "pymc 5.21.2 requires numpy>=1.25.0, but you have numpy 1.23.5 which is incompatible.\n",
            "plotnine 0.14.5 requires matplotlib>=3.8.0, but you have matplotlib 3.7.2 which is incompatible.\n",
            "plotnine 0.14.5 requires pandas>=2.2.0, but you have pandas 2.0.3 which is incompatible.\n",
            "cvxpy 1.6.4 requires scipy>=1.11.0, but you have scipy 1.10.1 which is incompatible.\n",
            "imbalanced-learn 0.13.0 requires numpy<3,>=1.24.3, but you have numpy 1.23.5 which is incompatible.\n",
            "xarray 2025.1.2 requires numpy>=1.24, but you have numpy 1.23.5 which is incompatible.\n",
            "xarray 2025.1.2 requires pandas>=2.1, but you have pandas 2.0.3 which is incompatible.\n",
            "bigframes 1.42.0 requires numpy>=1.24.0, but you have numpy 1.23.5 which is incompatible.\n",
            "albucore 0.0.23 requires numpy>=1.24.4, but you have numpy 1.23.5 which is incompatible.\n",
            "blosc2 3.3.0 requires numpy>=1.26, but you have numpy 1.23.5 which is incompatible.\n",
            "mizani 0.13.2 requires pandas>=2.2.0, but you have pandas 2.0.3 which is incompatible.\n",
            "treescope 0.1.9 requires numpy>=1.25.2, but you have numpy 1.23.5 which is incompatible.\n",
            "scikit-image 0.25.2 requires numpy>=1.24, but you have numpy 1.23.5 which is incompatible.\n",
            "scikit-image 0.25.2 requires scipy>=1.11.4, but you have scipy 1.10.1 which is incompatible.\n",
            "jax 0.5.2 requires numpy>=1.25, but you have numpy 1.23.5 which is incompatible.\n",
            "jax 0.5.2 requires scipy>=1.11.1, but you have scipy 1.10.1 which is incompatible.\n",
            "jaxlib 0.5.1 requires numpy>=1.25, but you have numpy 1.23.5 which is incompatible.\n",
            "jaxlib 0.5.1 requires scipy>=1.11.1, but you have scipy 1.10.1 which is incompatible.\n",
            "albumentations 2.0.5 requires numpy>=1.24.4, but you have numpy 1.23.5 which is incompatible.\n",
            "thinc 8.3.6 requires numpy<3.0.0,>=2.0.0, but you have numpy 1.23.5 which is incompatible.\u001b[0m\u001b[31m\n",
            "\u001b[0m"
          ]
        }
      ],
      "source": [
        "!pip install d2l  -q"
      ]
    },
    {
      "cell_type": "code",
      "source": [
        "import chardet #опдереление кодировки файла\n",
        "\n",
        "\n",
        "with open('/content/Первый учитель.txt', 'rb') as f:\n",
        "    raw_data = f.read(10000)  # Читаем часть файла (10000 байт достаточно)\n",
        "    result = chardet.detect(raw_data)  # Определяем кодировку\n",
        "    detected_encoding = result['encoding']\n",
        "    print(\"Определённая кодировка файла:\", detected_encoding)\n",
        "\n",
        "# Читаем файл с найденной кодировкой\n",
        "with open('/content/Первый учитель.txt', 'r', encoding=detected_encoding) as f:\n",
        "    source_str = f.read()  #переменная, куда сохраняется текст файла\n",
        "\n",
        "print(\"Файл успешно прочитан!\")"
      ],
      "metadata": {
        "colab": {
          "base_uri": "https://localhost:8080/"
        },
        "id": "9HUq8DIdAxjF",
        "outputId": "f5c9d3ed-9aa1-440f-de42-5bec6d4e682e"
      },
      "execution_count": null,
      "outputs": [
        {
          "output_type": "stream",
          "name": "stdout",
          "text": [
            "Определённая кодировка файла: windows-1251\n",
            "Файл успешно прочитан!\n"
          ]
        }
      ]
    },
    {
      "cell_type": "code",
      "source": [
        "import re #поиск слов и знаков препинания\n",
        "import chardet #определение кодировки файла\n",
        "\n",
        "# Определяем кодировку файла\n",
        "with open('/content/Первый учитель.txt', 'rb') as f: #ищет слова и знаки препинания в тексте  #\\w+ – находит слова [.?!] – отдельно выделяет точки вопросительные и восклицательные знаки.\n",
        "    raw_data = f.read(10000)  # Читаем часть файла (10 000 байт достаточно)\n",
        "    detected_encoding = chardet.detect(raw_data)['encoding']\n",
        "    print(\"Определённая кодировка файла:\", detected_encoding)\n",
        "\n",
        "# Читаем файл с найденной кодировкой\n",
        "with open('/content/Первый учитель.txt', 'r', encoding=detected_encoding) as f:\n",
        "    source_str = f.read()\n",
        "\n",
        "# Разбиваем текст на слова и знаки препинания\n",
        "source_words = re.findall(r'(\\w+)|[.?!]', source_str, re.UNICODE)\n",
        "\n",
        "print('Список слов:', source_words[:10])  # Первые 10 слов\n",
        "print('Всего слов, включая знаки препинания:', len(source_words)) #общее количество слов.\n"
      ],
      "metadata": {
        "colab": {
          "base_uri": "https://localhost:8080/"
        },
        "id": "TiZ9Xu8QA6dX",
        "outputId": "9c793ae0-4757-475a-b5e7-ef36fd66052d"
      },
      "execution_count": null,
      "outputs": [
        {
          "output_type": "stream",
          "name": "stdout",
          "text": [
            "Определённая кодировка файла: windows-1251\n",
            "Список слов: ['Первый', 'учитель', 'Я', 'открываю', 'настежь', 'окна', '', 'В', 'комнату', 'вливается']\n",
            "Всего слов, включая знаки препинания: 15596\n"
          ]
        }
      ]
    },
    {
      "cell_type": "code",
      "source": [
        "from collections import Counter\n",
        "all_words=Counter(source_words) #создает словарь где ключ-слово а значение-сколько раз оно встречается\n",
        "number_of_sentences=all_words.pop('',None) #удаляет возможные пустые строки\n",
        "print('Всего предложений:',number_of_sentences)\n",
        "print('Всего различных слов:',len(all_words))\n",
        "print('Самые часто встречающиеся слова:',all_words.most_common(10))\n",
        " #Как часто встречаются разные слова в тексте\n",
        " #Сколько в тексте уникальных (разных) слов.\n",
        "#Какие 10 слов встречаются чаще всего."
      ],
      "metadata": {
        "colab": {
          "base_uri": "https://localhost:8080/"
        },
        "id": "1J5vGNKBBI7U",
        "outputId": "509c43ed-d38e-48b2-bf7b-d33c079234c2"
      },
      "execution_count": null,
      "outputs": [
        {
          "output_type": "stream",
          "name": "stdout",
          "text": [
            "Всего предложений: 1258\n",
            "Всего различных слов: 5130\n",
            "Самые часто встречающиеся слова: [('и', 435), ('в', 382), ('не', 279), ('на', 262), ('я', 233), ('что', 175), ('с', 158), ('то', 120), ('меня', 114), ('Дюйшен', 110)]\n"
          ]
        }
      ]
    },
    {
      "cell_type": "code",
      "source": [
        "import chardet\n",
        "\n",
        "file_path = \"/content/Первый учитель.txt\"\n",
        "\n",
        "# Определяем кодировку файла\n",
        "with open(file_path, \"rb\") as f:\n",
        "    raw_data = f.read(10000)  # Читаем часть файла (10 000 байт)\n",
        "    detected_encoding = chardet.detect(raw_data)['encoding']\n",
        "    print(\"Определённая кодировка:\", detected_encoding)\n",
        "\n",
        "# Читаем файл с найденной кодировкой\n",
        "with open(file_path, \"r\", encoding=detected_encoding) as f:\n",
        "    text = f.read()\n",
        "\n",
        "print(\"Файл успешно загружен! Количество символов:\", len(text))"
      ],
      "metadata": {
        "colab": {
          "base_uri": "https://localhost:8080/"
        },
        "id": "_tUsSJooBcet",
        "outputId": "39c54ec5-2ede-4fe4-f469-cddc13112fb2"
      },
      "execution_count": null,
      "outputs": [
        {
          "output_type": "stream",
          "name": "stdout",
          "text": [
            "Определённая кодировка: windows-1251\n",
            "Файл успешно загружен! Количество символов: 87290\n"
          ]
        }
      ]
    }
  ]
}